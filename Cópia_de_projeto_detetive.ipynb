{
  "nbformat": 4,
  "nbformat_minor": 0,
  "metadata": {
    "colab": {
      "name": "Cópia de projeto_detetive.ipynb",
      "provenance": []
    },
    "kernelspec": {
      "name": "python3",
      "display_name": "Python 3"
    },
    "language_info": {
      "name": "python"
    }
  },
  "cells": [
    {
      "cell_type": "code",
      "metadata": {
        "id": "SLVg7lf6k3Ve"
      },
      "source": [
        ""
      ],
      "execution_count": null,
      "outputs": []
    },
    {
      "cell_type": "markdown",
      "metadata": {
        "id": "DuEoTl1tCVmH"
      },
      "source": [
        "### **Projeto Detetive**\n",
        "\n",
        "Sexta-feira, 13 de novembro de 2020. \n",
        "\n",
        "Carlão foi assassinado. Carlão era um bom rapaz, acima de qualquer suspeita, boa praça, todos gostavam dele, porém, no meio da tarde ele recebe uma ligação e sai do serviço muito nervoso. Agora todos podem ser suspeitos. É a sua vez de nos ajudar a solucionar esse caso. Interrogue todos próximos a Carlão e teremos nosso culpado."
      ]
    },
    {
      "cell_type": "code",
      "metadata": {
        "colab": {
          "base_uri": "https://localhost:8080/"
        },
        "id": "EWXVkpZ1CbBl",
        "outputId": "1a02b9bf-4241-400a-93e6-e352a9b943a7"
      },
      "source": [
        "telefone = input('Você telefonou para a vítima (S/N)? ').upper().strip()[0]\n",
        "\n",
        "\n",
        "if telefone == 'S':\n",
        "  t = 1\n",
        "elif telefone == 'N':\n",
        "  t = 0\n",
        "else:\n",
        "  print('Atenção, digite S ou N.')\n",
        "  telefone = input('Você telefonou para a vítima (S/N)? ').upper().strip()[0]\n",
        "if telefone == 'S':\n",
        "  t = 1\n",
        "else:\n",
        "  t = 0\n",
        "\n",
        "local = input('Você esteve no local do crime (S/N)? ').upper().strip()[0]\n",
        "\n",
        "if local =='S':\n",
        "  l = 1\n",
        "elif local == 'N':\n",
        "  l = 0\n",
        "else:\n",
        "  print('Atenção, digite S ou N.')\n",
        "  local = input('Você esteve no local do crime (S/N)? ').upper().strip()[0]\n",
        "if local =='S':\n",
        "  l = 1\n",
        "else:\n",
        "  l = 0\n",
        "\n",
        "\n",
        "residencia = input('Você mora perto da vítima (S/N)? ').upper().strip()[0]\n",
        "\n",
        "if residencia =='S':\n",
        "  r = 1\n",
        "elif residencia == 'N':\n",
        "  r = 0\n",
        "else:\n",
        "  print('Atenção, digite S ou N.')\n",
        "  residencia = input('Você mora perto da vítima (S/N)? ').upper().strip()[0]\n",
        "if residencia =='S':\n",
        "  r = 1\n",
        "else:\n",
        "  r = 0\n",
        "\n",
        "conta = input('Você devia para a vítima (S/N)? ').upper().strip()[0]\n",
        "\n",
        "if conta =='S':\n",
        "  c = 1\n",
        "elif conta == 'N':\n",
        "  c = 0\n",
        "else:\n",
        "  print('Atenção, digite S ou N.')\n",
        "  conta = input('Você devia para a vítima (S/N)? ').upper().strip()[0]\n",
        "if conta =='S':\n",
        "  c = 1\n",
        "else:\n",
        "  c = 0\n",
        "\n",
        "\n",
        "trabalho = input('Você trabalhou com a vítima (S/N)? ').upper().strip()[0]\n",
        "\n",
        "if trabalho =='S':\n",
        "  j = 1\n",
        "elif trabalho == 'N':\n",
        "  j = 0\n",
        "else:\n",
        "  print('Atenção, digite S ou N.')\n",
        "  trabalho = input('Você trabalhou com a vítima (S/N)? ').upper().strip()[0]\n",
        "if trabalho =='S':\n",
        "  j = 1\n",
        "else:\n",
        "  j = 0\n",
        "\n",
        "contador = t + l + r + c + j\n",
        " \n",
        "if contador < 2:\n",
        "  print('Dessa você escapou... Digo que você é inocente')\n",
        "elif contador < 3:\n",
        "  print('Humm... achamos um suspeito')\n",
        "elif contador < 5:\n",
        "  print('Não me resta dúvida que já temos um cúmplice')\n",
        "else:\n",
        "  print('Acabamos de achar o assassino')\n",
        "\n",
        " \n",
        "\n",
        "\n"
      ],
      "execution_count": null,
      "outputs": [
        {
          "output_type": "stream",
          "text": [
            "Você telefonou para a vítima (S/N)? m\n",
            "Atenção, digite S ou N.\n",
            "Você telefonou para a vítima (S/N)? n\n",
            "Você esteve no local do crime (S/N)? n\n",
            "Você mora perto da vítima (S/N)? n\n",
            "Você devia para a vítima (S/N)? n\n",
            "Você trabalhou com a vítima (S/N)? n\n",
            "Dessa você escapou... Digo que você é inocente\n"
          ],
          "name": "stdout"
        }
      ]
    },
    {
      "cell_type": "code",
      "metadata": {
        "id": "UcqrmQSQZKTw"
      },
      "source": [
        ""
      ],
      "execution_count": null,
      "outputs": []
    }
  ]
}